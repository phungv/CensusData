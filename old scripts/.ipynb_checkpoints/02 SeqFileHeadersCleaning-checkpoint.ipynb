{
 "cells": [
  {
   "cell_type": "code",
   "execution_count": 2,
   "metadata": {},
   "outputs": [],
   "source": [
    "import pandas as pd\n",
    "import numpy as np\n",
    "import xlrd\n",
    "from pathlib import Path\n",
    "import glob\n",
    "import os\n"
   ]
  },
  {
   "cell_type": "code",
   "execution_count": 12,
   "metadata": {},
   "outputs": [],
   "source": [
    "columnnames = pd.read_excel(r\"C:\\Census Data\\References\\2016_5yr_Summary_FileTemplates\\templates\\Seq41.xls\", sheet_name='E')"
   ]
  },
  {
   "cell_type": "code",
   "execution_count": null,
   "metadata": {},
   "outputs": [],
   "source": [
    "\n"
   ]
  },
  {
   "cell_type": "code",
   "execution_count": 33,
   "metadata": {},
   "outputs": [],
   "source": [
    "values = {'FILEID': \"1\", 'FILETYPE': \"YEAR\", 'STUSAB': \"STATE\", \n",
    "                                'CHARITER': \"4\",\"SEQUENCE\" : \"SEQ\", \"LOGRECNO\": \"LOGRECNO\"\n",
    "          }\n",
    "columnnames2 = columnnames.fillna(value = values)\n",
    "#names = columnnames.apply(lambda x: x.tolist(), axis=1)"
   ]
  },
  {
   "cell_type": "code",
   "execution_count": 35,
   "metadata": {},
   "outputs": [
    {
     "data": {
      "text/html": [
       "<div>\n",
       "<style scoped>\n",
       "    .dataframe tbody tr th:only-of-type {\n",
       "        vertical-align: middle;\n",
       "    }\n",
       "\n",
       "    .dataframe tbody tr th {\n",
       "        vertical-align: top;\n",
       "    }\n",
       "\n",
       "    .dataframe thead th {\n",
       "        text-align: right;\n",
       "    }\n",
       "</style>\n",
       "<table border=\"1\" class=\"dataframe\">\n",
       "  <thead>\n",
       "    <tr style=\"text-align: right;\">\n",
       "      <th></th>\n",
       "      <th>FILEID</th>\n",
       "      <th>FILETYPE</th>\n",
       "      <th>STUSAB</th>\n",
       "      <th>CHARITER</th>\n",
       "      <th>SEQUENCE</th>\n",
       "      <th>LOGRECNO</th>\n",
       "      <th>B14001_001</th>\n",
       "      <th>B14001_002</th>\n",
       "      <th>B14001_003</th>\n",
       "      <th>B14001_004</th>\n",
       "      <th>...</th>\n",
       "      <th>B14007A_010</th>\n",
       "      <th>B14007A_011</th>\n",
       "      <th>B14007A_012</th>\n",
       "      <th>B14007A_013</th>\n",
       "      <th>B14007A_014</th>\n",
       "      <th>B14007A_015</th>\n",
       "      <th>B14007A_016</th>\n",
       "      <th>B14007A_017</th>\n",
       "      <th>B14007A_018</th>\n",
       "      <th>B14007A_019</th>\n",
       "    </tr>\n",
       "  </thead>\n",
       "  <tbody>\n",
       "    <tr>\n",
       "      <th>0</th>\n",
       "      <td>1</td>\n",
       "      <td>YEAR</td>\n",
       "      <td>STATE</td>\n",
       "      <td>4</td>\n",
       "      <td>SEQ</td>\n",
       "      <td>LOGRECNO</td>\n",
       "      <td>SCHOOL ENROLLMENT BY LEVEL OF SCHOOL FOR THE P...</td>\n",
       "      <td>SCHOOL ENROLLMENT BY LEVEL OF SCHOOL FOR THE P...</td>\n",
       "      <td>SCHOOL ENROLLMENT BY LEVEL OF SCHOOL FOR THE P...</td>\n",
       "      <td>SCHOOL ENROLLMENT BY LEVEL OF SCHOOL FOR THE P...</td>\n",
       "      <td>...</td>\n",
       "      <td>SCHOOL ENROLLMENT BY DETAILED LEVEL OF SCHOOL ...</td>\n",
       "      <td>SCHOOL ENROLLMENT BY DETAILED LEVEL OF SCHOOL ...</td>\n",
       "      <td>SCHOOL ENROLLMENT BY DETAILED LEVEL OF SCHOOL ...</td>\n",
       "      <td>SCHOOL ENROLLMENT BY DETAILED LEVEL OF SCHOOL ...</td>\n",
       "      <td>SCHOOL ENROLLMENT BY DETAILED LEVEL OF SCHOOL ...</td>\n",
       "      <td>SCHOOL ENROLLMENT BY DETAILED LEVEL OF SCHOOL ...</td>\n",
       "      <td>SCHOOL ENROLLMENT BY DETAILED LEVEL OF SCHOOL ...</td>\n",
       "      <td>SCHOOL ENROLLMENT BY DETAILED LEVEL OF SCHOOL ...</td>\n",
       "      <td>SCHOOL ENROLLMENT BY DETAILED LEVEL OF SCHOOL ...</td>\n",
       "      <td>SCHOOL ENROLLMENT BY DETAILED LEVEL OF SCHOOL ...</td>\n",
       "    </tr>\n",
       "  </tbody>\n",
       "</table>\n",
       "<p>1 rows × 243 columns</p>\n",
       "</div>"
      ],
      "text/plain": [
       "  FILEID FILETYPE STUSAB CHARITER SEQUENCE  LOGRECNO  \\\n",
       "0      1     YEAR  STATE        4      SEQ  LOGRECNO   \n",
       "\n",
       "                                          B14001_001  \\\n",
       "0  SCHOOL ENROLLMENT BY LEVEL OF SCHOOL FOR THE P...   \n",
       "\n",
       "                                          B14001_002  \\\n",
       "0  SCHOOL ENROLLMENT BY LEVEL OF SCHOOL FOR THE P...   \n",
       "\n",
       "                                          B14001_003  \\\n",
       "0  SCHOOL ENROLLMENT BY LEVEL OF SCHOOL FOR THE P...   \n",
       "\n",
       "                                          B14001_004  \\\n",
       "0  SCHOOL ENROLLMENT BY LEVEL OF SCHOOL FOR THE P...   \n",
       "\n",
       "                         ...                          \\\n",
       "0                        ...                           \n",
       "\n",
       "                                         B14007A_010  \\\n",
       "0  SCHOOL ENROLLMENT BY DETAILED LEVEL OF SCHOOL ...   \n",
       "\n",
       "                                         B14007A_011  \\\n",
       "0  SCHOOL ENROLLMENT BY DETAILED LEVEL OF SCHOOL ...   \n",
       "\n",
       "                                         B14007A_012  \\\n",
       "0  SCHOOL ENROLLMENT BY DETAILED LEVEL OF SCHOOL ...   \n",
       "\n",
       "                                         B14007A_013  \\\n",
       "0  SCHOOL ENROLLMENT BY DETAILED LEVEL OF SCHOOL ...   \n",
       "\n",
       "                                         B14007A_014  \\\n",
       "0  SCHOOL ENROLLMENT BY DETAILED LEVEL OF SCHOOL ...   \n",
       "\n",
       "                                         B14007A_015  \\\n",
       "0  SCHOOL ENROLLMENT BY DETAILED LEVEL OF SCHOOL ...   \n",
       "\n",
       "                                         B14007A_016  \\\n",
       "0  SCHOOL ENROLLMENT BY DETAILED LEVEL OF SCHOOL ...   \n",
       "\n",
       "                                         B14007A_017  \\\n",
       "0  SCHOOL ENROLLMENT BY DETAILED LEVEL OF SCHOOL ...   \n",
       "\n",
       "                                         B14007A_018  \\\n",
       "0  SCHOOL ENROLLMENT BY DETAILED LEVEL OF SCHOOL ...   \n",
       "\n",
       "                                         B14007A_019  \n",
       "0  SCHOOL ENROLLMENT BY DETAILED LEVEL OF SCHOOL ...  \n",
       "\n",
       "[1 rows x 243 columns]"
      ]
     },
     "execution_count": 35,
     "metadata": {},
     "output_type": "execute_result"
    }
   ],
   "source": [
    "columnnames2\n"
   ]
  },
  {
   "cell_type": "code",
   "execution_count": 36,
   "metadata": {},
   "outputs": [],
   "source": [
    "names = columnnames2.apply(lambda x: x.tolist(), axis=1)"
   ]
  },
  {
   "cell_type": "code",
   "execution_count": 37,
   "metadata": {},
   "outputs": [
    {
     "data": {
      "text/plain": [
       "0    [1, YEAR, STATE, 4, SEQ, LOGRECNO, SCHOOL ENRO...\n",
       "dtype: object"
      ]
     },
     "execution_count": 37,
     "metadata": {},
     "output_type": "execute_result"
    }
   ],
   "source": [
    "names"
   ]
  },
  {
   "cell_type": "code",
   "execution_count": null,
   "metadata": {},
   "outputs": [],
   "source": []
  }
 ],
 "metadata": {
  "kernelspec": {
   "display_name": "Python 3",
   "language": "python",
   "name": "python3"
  },
  "language_info": {
   "codemirror_mode": {
    "name": "ipython",
    "version": 3
   },
   "file_extension": ".py",
   "mimetype": "text/x-python",
   "name": "python",
   "nbconvert_exporter": "python",
   "pygments_lexer": "ipython3",
   "version": "3.7.1"
  }
 },
 "nbformat": 4,
 "nbformat_minor": 2
}
